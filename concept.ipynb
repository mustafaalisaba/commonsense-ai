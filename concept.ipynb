{
 "cells": [
  {
   "cell_type": "markdown",
   "metadata": {},
   "source": [
    "# ConceptNet exploration\n",
    "Data acquisition from ConceptNet in JSON-LD format\n",
    "\n",
    "**JSON-LD:**<br>*(JavaScript Object Notation for Linked Data)* is a method of encoding linked data using JSON."
   ]
  },
  {
   "cell_type": "code",
   "execution_count": 1,
   "metadata": {},
   "outputs": [
    {
     "name": "stdout",
     "output_type": "stream",
     "text": [
      "dict_keys(['@context', '@id', 'edges', 'version', 'view'])\n",
      "<class 'dict_keys'>\n",
      "{'@id': '/a/[/r/HasProperty/,/c/en/apple/,/c/en/red/]', '@type': 'Edge', 'dataset': '/d/conceptnet/4/en', 'end': {'@id': '/c/en/red', '@type': 'Node', 'label': 'red', 'language': 'en', 'term': '/c/en/red'}, 'license': 'cc:by/4.0', 'rel': {'@id': '/r/HasProperty', '@type': 'Relation', 'label': 'HasProperty'}, 'sources': [{'@id': '/and/[/s/activity/omcs/commons_manual_entry/,/s/contributor/omcs/paulginz/]', '@type': 'Source', 'activity': '/s/activity/omcs/commons_manual_entry', 'contributor': '/s/contributor/omcs/paulginz'}, {'@id': '/and/[/s/activity/omcs/omcs1_possibly_free_text/,/s/contributor/omcs/gary/]', '@type': 'Source', 'activity': '/s/activity/omcs/omcs1_possibly_free_text', 'contributor': '/s/contributor/omcs/gary'}, {'@id': '/and/[/s/activity/omcs/omcs1_possibly_free_text/,/s/contributor/omcs/korte/]', '@type': 'Source', 'activity': '/s/activity/omcs/omcs1_possibly_free_text', 'contributor': '/s/contributor/omcs/korte'}, {'@id': '/and/[/s/activity/omcs/omcs1_possibly_free_text/,/s/contributor/omcs/morgan12x/]', '@type': 'Source', 'activity': '/s/activity/omcs/omcs1_possibly_free_text', 'contributor': '/s/contributor/omcs/morgan12x'}, {'@id': '/and/[/s/activity/omcs/vote/,/s/contributor/omcs/anaitis/]', '@type': 'Source', 'activity': '/s/activity/omcs/vote', 'contributor': '/s/contributor/omcs/anaitis'}, {'@id': '/and/[/s/activity/omcs/vote/,/s/contributor/omcs/astronut/]', '@type': 'Source', 'activity': '/s/activity/omcs/vote', 'contributor': '/s/contributor/omcs/astronut'}, {'@id': '/and/[/s/activity/omcs/vote/,/s/contributor/omcs/billymind/]', '@type': 'Source', 'activity': '/s/activity/omcs/vote', 'contributor': '/s/contributor/omcs/billymind'}, {'@id': '/and/[/s/activity/omcs/vote/,/s/contributor/omcs/browni/]', '@type': 'Source', 'activity': '/s/activity/omcs/vote', 'contributor': '/s/contributor/omcs/browni'}, {'@id': '/and/[/s/activity/omcs/vote/,/s/contributor/omcs/bumpgui/]', '@type': 'Source', 'activity': '/s/activity/omcs/vote', 'contributor': '/s/contributor/omcs/bumpgui'}, {'@id': '/and/[/s/activity/omcs/vote/,/s/contributor/omcs/chris42974/]', '@type': 'Source', 'activity': '/s/activity/omcs/vote', 'contributor': '/s/contributor/omcs/chris42974'}, {'@id': '/and/[/s/activity/omcs/vote/,/s/contributor/omcs/dev/]', '@type': 'Source', 'activity': '/s/activity/omcs/vote', 'contributor': '/s/contributor/omcs/dev'}, {'@id': '/and/[/s/activity/omcs/vote/,/s/contributor/omcs/djuber/]', '@type': 'Source', 'activity': '/s/activity/omcs/vote', 'contributor': '/s/contributor/omcs/djuber'}, {'@id': '/and/[/s/activity/omcs/vote/,/s/contributor/omcs/elsten/]', '@type': 'Source', 'activity': '/s/activity/omcs/vote', 'contributor': '/s/contributor/omcs/elsten'}, {'@id': '/and/[/s/activity/omcs/vote/,/s/contributor/omcs/gary/]', '@type': 'Source', 'activity': '/s/activity/omcs/vote', 'contributor': '/s/contributor/omcs/gary'}, {'@id': '/and/[/s/activity/omcs/vote/,/s/contributor/omcs/guru1/]', '@type': 'Source', 'activity': '/s/activity/omcs/vote', 'contributor': '/s/contributor/omcs/guru1'}, {'@id': '/and/[/s/activity/omcs/vote/,/s/contributor/omcs/jfarnell/]', '@type': 'Source', 'activity': '/s/activity/omcs/vote', 'contributor': '/s/contributor/omcs/jfarnell'}, {'@id': '/and/[/s/activity/omcs/vote/,/s/contributor/omcs/korte/]', '@type': 'Source', 'activity': '/s/activity/omcs/vote', 'contributor': '/s/contributor/omcs/korte'}, {'@id': '/and/[/s/activity/omcs/vote/,/s/contributor/omcs/mrtj/]', '@type': 'Source', 'activity': '/s/activity/omcs/vote', 'contributor': '/s/contributor/omcs/mrtj'}, {'@id': '/and/[/s/activity/omcs/vote/,/s/contributor/omcs/pastymage/]', '@type': 'Source', 'activity': '/s/activity/omcs/vote', 'contributor': '/s/contributor/omcs/pastymage'}, {'@id': '/and/[/s/activity/omcs/vote/,/s/contributor/omcs/polymatrix/]', '@type': 'Source', 'activity': '/s/activity/omcs/vote', 'contributor': '/s/contributor/omcs/polymatrix'}, {'@id': '/and/[/s/activity/omcs/vote/,/s/contributor/omcs/rspeer/]', '@type': 'Source', 'activity': '/s/activity/omcs/vote', 'contributor': '/s/contributor/omcs/rspeer'}, {'@id': '/and/[/s/activity/omcs/vote/,/s/contributor/omcs/samd/]', '@type': 'Source', 'activity': '/s/activity/omcs/vote', 'contributor': '/s/contributor/omcs/samd'}, {'@id': '/and/[/s/activity/omcs/vote/,/s/contributor/omcs/skissane/]', '@type': 'Source', 'activity': '/s/activity/omcs/vote', 'contributor': '/s/contributor/omcs/skissane'}, {'@id': '/and/[/s/activity/omcs/vote/,/s/contributor/omcs/speculativerunner/]', '@type': 'Source', 'activity': '/s/activity/omcs/vote', 'contributor': '/s/contributor/omcs/speculativerunner'}, {'@id': '/and/[/s/activity/omcs/vote/,/s/contributor/omcs/suchow/]', '@type': 'Source', 'activity': '/s/activity/omcs/vote', 'contributor': '/s/contributor/omcs/suchow'}, {'@id': '/and/[/s/activity/omcs/vote/,/s/contributor/omcs/trevorm/]', '@type': 'Source', 'activity': '/s/activity/omcs/vote', 'contributor': '/s/contributor/omcs/trevorm'}, {'@id': '/and/[/s/activity/omcs/vote/,/s/contributor/omcs/yahma/]', '@type': 'Source', 'activity': '/s/activity/omcs/vote', 'contributor': '/s/contributor/omcs/yahma'}, {'@id': '/and/[/s/activity/omcs/vote/,/s/contributor/omcs/zaph/]', '@type': 'Source', 'activity': '/s/activity/omcs/vote', 'contributor': '/s/contributor/omcs/zaph'}], 'start': {'@id': '/c/en/apple', '@type': 'Node', 'label': 'apple', 'language': 'en', 'term': '/c/en/apple'}, 'surfaceText': '[[apple]] can be [[red]]', 'weight': 9.591663046625438}\n"
     ]
    }
   ],
   "source": [
    "import requests, json\n",
    "\n",
    "obj = requests.get('https://api.conceptnet.io/c/en/apple').json() # https://api.conceptnet.io/c/en/example\n",
    "print(obj.keys())\n",
    "print(type(obj.keys()))\n",
    "\n",
    "# llaves del diccionario\n",
    "#print(obj['@context'])\n",
    "#print(obj['@id'])\n",
    "#print(obj['edges'])\n",
    "#print(type(obj['edges']))\n",
    "#print(obj['version'])\n",
    "#print(obj['view'])\n",
    "print(obj['edges'][1])\n",
    "#print(type(y))\n",
    "#print(y.keys())\n",
    "#obj.keys()\n",
    "#len(obj['edges'])"
   ]
  }
 ],
 "metadata": {
  "kernelspec": {
   "display_name": "Python 3.9.12 ('base')",
   "language": "python",
   "name": "python3"
  },
  "language_info": {
   "codemirror_mode": {
    "name": "ipython",
    "version": 3
   },
   "file_extension": ".py",
   "mimetype": "text/x-python",
   "name": "python",
   "nbconvert_exporter": "python",
   "pygments_lexer": "ipython3",
   "version": "3.9.12"
  },
  "orig_nbformat": 4,
  "vscode": {
   "interpreter": {
    "hash": "02149da2f4d26c11dc505fde16b5dd8d64a84485167dbc8ca3468bae5115f124"
   }
  }
 },
 "nbformat": 4,
 "nbformat_minor": 2
}
