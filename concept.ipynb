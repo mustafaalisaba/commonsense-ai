{
 "cells": [
  {
   "cell_type": "markdown",
   "metadata": {},
   "source": [
    "# ConceptNet exploration\n",
    "Data acquisition from ConceptNet in JSON-LD format\n",
    "\n",
    "**JSON-LD:**<br>*(JavaScript Object Notation for Linked Data)* is a method of encoding linked data using JSON."
   ]
  },
  {
   "cell_type": "code",
   "execution_count": null,
   "metadata": {},
   "outputs": [
    {
     "ename": "",
     "evalue": "",
     "output_type": "error",
     "traceback": [
      "\u001b[1;31mLa ejecución de celdas con 'Python 3.10.5 ('comm-env': venv)' requieren el paquete ipykernel.\n",
      "\u001b[1;31mEjecute el siguiente comando para instalar 'ipykernel' en el entorno de Python. comando \n",
      "\u001b[1;31m: 'c:/Users/alisa/projects/commonsense-ai/comm-env/bin/python.exe -m pip install ipykernel -U --force-reinstall'"
     ]
    }
   ],
   "source": [
    "import requests, json\n",
    "\n",
    "uri = \"http://api.conceptnet.io/c/en/hospital\"\n",
    "\n",
    "response = requests.get(uri) # https://api.conceptnet.io/c/en/example\n",
    "\n",
    "obj = response.json() # json object\n",
    "\n",
    "#print(\"JSON-LD object:\\n\", obj)\n",
    "\n",
    "print(\"\\nKeys of obj:\\n\", obj.keys())\n",
    "\n",
    "#print(\"JSON obj:\\n\", json.dumps(obj, indent=4))\n",
    "\n",
    "print(\"\\nData type and edge size:\\n\", type(obj.keys()), len(obj['edges']))\n",
    "\n",
    "print(\"\\nEdges:\\n\", json.dumps(obj['edges'], indent=4, sort_keys=True)) # obj['edges']\n",
    "\n",
    "#print(\"\\nEdges:\\n\", json.dumps(obj['edges'][2], indent=4, sort_keys=True))\n"
   ]
  }
 ],
 "metadata": {
  "kernelspec": {
   "display_name": "Python 3.10.5 ('comm-env': venv)",
   "language": "python",
   "name": "python3"
  },
  "language_info": {
   "codemirror_mode": {
    "name": "ipython",
    "version": 3
   },
   "file_extension": ".py",
   "mimetype": "text/x-python",
   "name": "python",
   "nbconvert_exporter": "python",
   "pygments_lexer": "ipython3",
   "version": "3.10.5"
  },
  "orig_nbformat": 4,
  "vscode": {
   "interpreter": {
    "hash": "bc1bd638cbcc89d8336e845f3ba2beaed7637191fff140cbfcbd1e94a5c70bd2"
   }
  }
 },
 "nbformat": 4,
 "nbformat_minor": 2
}
