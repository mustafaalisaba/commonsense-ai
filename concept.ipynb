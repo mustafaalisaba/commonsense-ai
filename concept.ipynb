{
 "cells": [
  {
   "cell_type": "markdown",
   "metadata": {},
   "source": [
    "# ConceptNet exploration\n",
    "Data acquisition from ConceptNet in JSON-LD format\n",
    "\n",
    "**JSON-LD:**<br>*(JavaScript Object Notation for Linked Data)* is a method of encoding linked data using JSON."
   ]
  },
  {
   "cell_type": "code",
   "execution_count": 1,
   "metadata": {},
   "outputs": [
    {
     "ename": "ModuleNotFoundError",
     "evalue": "No module named 'requests'",
     "output_type": "error",
     "traceback": [
      "\u001b[1;31m---------------------------------------------------------------------------\u001b[0m",
      "\u001b[1;31mModuleNotFoundError\u001b[0m                       Traceback (most recent call last)",
      "\u001b[1;32mc:\\Users\\alisa\\projects\\commonsense-ai\\concept.ipynb Celda 2\u001b[0m in \u001b[0;36m<cell line: 1>\u001b[1;34m()\u001b[0m\n\u001b[1;32m----> <a href='vscode-notebook-cell:/c%3A/Users/alisa/projects/commonsense-ai/concept.ipynb#W1sZmlsZQ%3D%3D?line=0'>1</a>\u001b[0m \u001b[39mimport\u001b[39;00m \u001b[39mrequests\u001b[39;00m\u001b[39m,\u001b[39m \u001b[39mjson\u001b[39;00m\n\u001b[0;32m      <a href='vscode-notebook-cell:/c%3A/Users/alisa/projects/commonsense-ai/concept.ipynb#W1sZmlsZQ%3D%3D?line=2'>3</a>\u001b[0m uri \u001b[39m=\u001b[39m \u001b[39m\"\u001b[39m\u001b[39mhttp://api.conceptnet.io/c/en/hospital\u001b[39m\u001b[39m\"\u001b[39m\n\u001b[0;32m      <a href='vscode-notebook-cell:/c%3A/Users/alisa/projects/commonsense-ai/concept.ipynb#W1sZmlsZQ%3D%3D?line=4'>5</a>\u001b[0m response \u001b[39m=\u001b[39m requests\u001b[39m.\u001b[39mget(uri) \u001b[39m# https://api.conceptnet.io/c/en/example\u001b[39;00m\n",
      "\u001b[1;31mModuleNotFoundError\u001b[0m: No module named 'requests'"
     ]
    }
   ],
   "source": [
    "import requests, json\n",
    "\n",
    "uri = \"http://api.conceptnet.io/c/en/hospital\"\n",
    "\n",
    "response = requests.get(uri) # https://api.conceptnet.io/c/en/example\n",
    "\n",
    "obj = response.json() # json object\n",
    "\n",
    "#print(\"JSON-LD object:\\n\", obj)\n",
    "\n",
    "print(\"\\nKeys of obj:\\n\", obj.keys())\n",
    "\n",
    "#print(\"JSON obj:\\n\", json.dumps(obj, indent=4))\n",
    "\n",
    "print(\"\\nData type and edge size:\\n\", type(obj.keys()), len(obj['edges']))\n",
    "\n",
    "print(\"\\nEdges:\\n\", json.dumps(obj['edges'], indent=4, sort_keys=True)) # obj['edges']\n",
    "\n",
    "#print(\"\\nEdges:\\n\", json.dumps(obj['edges'][2], indent=4, sort_keys=True))\n"
   ]
  }
 ],
 "metadata": {
  "kernelspec": {
   "display_name": "Python 3.10.7 64-bit",
   "language": "python",
   "name": "python3"
  },
  "language_info": {
   "codemirror_mode": {
    "name": "ipython",
    "version": 3
   },
   "file_extension": ".py",
   "mimetype": "text/x-python",
   "name": "python",
   "nbconvert_exporter": "python",
   "pygments_lexer": "ipython3",
   "version": "3.10.7"
  },
  "orig_nbformat": 4,
  "vscode": {
   "interpreter": {
    "hash": "7f011e71ee34193b65a05c14654e10eee68ad9a641af98812b113fe0bb0717c2"
   }
  }
 },
 "nbformat": 4,
 "nbformat_minor": 2
}
