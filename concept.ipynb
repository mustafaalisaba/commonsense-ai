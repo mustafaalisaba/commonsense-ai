{
 "cells": [
  {
   "cell_type": "markdown",
   "metadata": {},
   "source": [
    "# ConceptNet exploration\n",
    "Data acquisition from ConceptNet in JSON-LD format\n",
    "\n",
    "**JSON-LD:**<br>*(JavaScript Object Notation for Linked Data)* is a method of encoding linked data using JSON."
   ]
  },
  {
   "cell_type": "code",
   "execution_count": 1,
   "metadata": {},
   "outputs": [
    {
     "name": "stdout",
     "output_type": "stream",
     "text": [
      "Keys of obj:\n",
      " dict_keys(['@context', '@id', 'edges', 'version', 'view'])\n",
      "Data type and edge size:\n",
      " <class 'dict_keys'> 20\n",
      "Edges:\n",
      " {\n",
      "    \"@id\": \"/a/[/r/AtLocation/,/c/en/mouse/,/c/en/laboratory/]\",\n",
      "    \"@type\": \"Edge\",\n",
      "    \"dataset\": \"/d/conceptnet/4/en\",\n",
      "    \"end\": {\n",
      "        \"@id\": \"/c/en/laboratory\",\n",
      "        \"@type\": \"Node\",\n",
      "        \"label\": \"a laboratory\",\n",
      "        \"language\": \"en\",\n",
      "        \"term\": \"/c/en/laboratory\"\n",
      "    },\n",
      "    \"license\": \"cc:by/4.0\",\n",
      "    \"rel\": {\n",
      "        \"@id\": \"/r/AtLocation\",\n",
      "        \"@type\": \"Relation\",\n",
      "        \"label\": \"AtLocation\"\n",
      "    },\n",
      "    \"sources\": [\n",
      "        {\n",
      "            \"@id\": \"/and/[/s/activity/omcs/omcs1_possibly_free_text/,/s/contributor/omcs/alexi/]\",\n",
      "            \"@type\": \"Source\",\n",
      "            \"activity\": \"/s/activity/omcs/omcs1_possibly_free_text\",\n",
      "            \"contributor\": \"/s/contributor/omcs/alexi\"\n",
      "        },\n",
      "        {\n",
      "            \"@id\": \"/and/[/s/activity/omcs/omcs1_possibly_free_text/,/s/contributor/omcs/annedog/]\",\n",
      "            \"@type\": \"Source\",\n",
      "            \"activity\": \"/s/activity/omcs/omcs1_possibly_free_text\",\n",
      "            \"contributor\": \"/s/contributor/omcs/annedog\"\n",
      "        },\n",
      "        {\n",
      "            \"@id\": \"/and/[/s/activity/omcs/omcs1_possibly_free_text/,/s/contributor/omcs/cfronte/]\",\n",
      "            \"@type\": \"Source\",\n",
      "            \"activity\": \"/s/activity/omcs/omcs1_possibly_free_text\",\n",
      "            \"contributor\": \"/s/contributor/omcs/cfronte\"\n",
      "        },\n",
      "        {\n",
      "            \"@id\": \"/and/[/s/activity/omcs/vote/,/s/contributor/omcs/alexi/]\",\n",
      "            \"@type\": \"Source\",\n",
      "            \"activity\": \"/s/activity/omcs/vote\",\n",
      "            \"contributor\": \"/s/contributor/omcs/alexi\"\n",
      "        },\n",
      "        {\n",
      "            \"@id\": \"/and/[/s/activity/omcs/vote/,/s/contributor/omcs/cfronte/]\",\n",
      "            \"@type\": \"Source\",\n",
      "            \"activity\": \"/s/activity/omcs/vote\",\n",
      "            \"contributor\": \"/s/contributor/omcs/cfronte\"\n",
      "        },\n",
      "        {\n",
      "            \"@id\": \"/and/[/s/activity/omcs/vote/,/s/contributor/omcs/dragonjools/]\",\n",
      "            \"@type\": \"Source\",\n",
      "            \"activity\": \"/s/activity/omcs/vote\",\n",
      "            \"contributor\": \"/s/contributor/omcs/dragonjools\"\n",
      "        },\n",
      "        {\n",
      "            \"@id\": \"/and/[/s/activity/omcs/vote/,/s/contributor/omcs/gary/]\",\n",
      "            \"@type\": \"Source\",\n",
      "            \"activity\": \"/s/activity/omcs/vote\",\n",
      "            \"contributor\": \"/s/contributor/omcs/gary\"\n",
      "        },\n",
      "        {\n",
      "            \"@id\": \"/and/[/s/activity/omcs/vote/,/s/contributor/omcs/yahma/]\",\n",
      "            \"@type\": \"Source\",\n",
      "            \"activity\": \"/s/activity/omcs/vote\",\n",
      "            \"contributor\": \"/s/contributor/omcs/yahma\"\n",
      "        }\n",
      "    ],\n",
      "    \"start\": {\n",
      "        \"@id\": \"/c/en/mouse\",\n",
      "        \"@type\": \"Node\",\n",
      "        \"label\": \"a mouse\",\n",
      "        \"language\": \"en\",\n",
      "        \"term\": \"/c/en/mouse\"\n",
      "    },\n",
      "    \"surfaceText\": \"You are likely to find [[a mouse]] in [[a laboratory]]\",\n",
      "    \"weight\": 5.656854249492381\n",
      "}\n"
     ]
    }
   ],
   "source": [
    "import requests, json\n",
    "\n",
    "obj = requests.get('https://api.conceptnet.io/c/en/mouse').json() # https://api.conceptnet.io/c/en/example\n",
    "\n",
    "print(\"Keys of obj:\\n\", obj.keys())\n",
    "\n",
    "#print(\"JSON obj:\\n\", json.dumps(obj, indent=4))\n",
    "\n",
    "print(\"Data type and edge size:\\n\", type(obj.keys()), len(obj['edges']))\n",
    "\n",
    "print(\"Edges:\\n\", json.dumps(obj['edges'][2], indent=4, sort_keys=True))\n"
   ]
  }
 ],
 "metadata": {
  "kernelspec": {
   "display_name": "Python 3.9.12 ('base')",
   "language": "python",
   "name": "python3"
  },
  "language_info": {
   "codemirror_mode": {
    "name": "ipython",
    "version": 3
   },
   "file_extension": ".py",
   "mimetype": "text/x-python",
   "name": "python",
   "nbconvert_exporter": "python",
   "pygments_lexer": "ipython3",
   "version": "3.9.12"
  },
  "orig_nbformat": 4,
  "vscode": {
   "interpreter": {
    "hash": "02149da2f4d26c11dc505fde16b5dd8d64a84485167dbc8ca3468bae5115f124"
   }
  }
 },
 "nbformat": 4,
 "nbformat_minor": 2
}
