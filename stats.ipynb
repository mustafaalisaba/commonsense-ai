{
 "cells": [
  {
   "cell_type": "markdown",
   "id": "821fdad2",
   "metadata": {
    "tags": []
   },
   "source": [
    "# Random variables and distributions\n",
    "\n",
    "## Expected value of $X$\n",
    "\n",
    "$E(X) = \\mu_X = \\sum_{x=D} x * p(x)$,\n",
    "\n",
    "where $X$ is a rv with a set of pissible values $D$ and *pmf* $p(x)$.\n",
    "$E(X)$ is also known as **mean value of $X$**\n"
   ]
  },
  {
   "cell_type": "code",
   "execution_count": 1,
   "id": "acc80957-9ee6-44b5-a9db-c9a4f3396382",
   "metadata": {},
   "outputs": [
    {
     "data": {
      "text/plain": [
       "48.84"
      ]
     },
     "execution_count": 1,
     "metadata": {},
     "output_type": "execute_result"
    }
   ],
   "source": [
    "def expected_value(D, pmf):\n",
    "    #\n",
    "    return sum([x * p_x for x, p_x in zip(D, pmf)])\n",
    "\n",
    "expected_value([45, 46, 47, 48, 49, 50, 51, 52, 53, 54, 55], [0.05, 0.10, 0.12, 0.14, 0.25, 0.17, 0.06, 0.05, 0.03, 0.02, 0.01])"
   ]
  },
  {
   "cell_type": "markdown",
   "id": "5ece8548",
   "metadata": {},
   "source": [
    "## Expected value of $h(X)$"
   ]
  }
 ],
 "metadata": {
  "kernelspec": {
   "display_name": "Python 3.10.0 64-bit",
   "language": "python",
   "name": "python3"
  },
  "language_info": {
   "codemirror_mode": {
    "name": "ipython",
    "version": 3
   },
   "file_extension": ".py",
   "mimetype": "text/x-python",
   "name": "python",
   "nbconvert_exporter": "python",
   "pygments_lexer": "ipython3",
   "version": "3.10.0"
  },
  "vscode": {
   "interpreter": {
    "hash": "7f011e71ee34193b65a05c14654e10eee68ad9a641af98812b113fe0bb0717c2"
   }
  }
 },
 "nbformat": 4,
 "nbformat_minor": 5
}
